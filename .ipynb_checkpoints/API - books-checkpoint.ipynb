{
 "cells": [
  {
   "cell_type": "markdown",
   "metadata": {},
   "source": [
    "# Ma petite librairie – Projet API REST"
   ]
  },
  {
   "cell_type": "markdown",
   "metadata": {},
   "source": [
    "https://2.python-requests.org/en/master/\n",
    "\n",
    "api : https://demo.api-platform.com/\n",
    "\n",
    "(https://insomnia.rest)"
   ]
  },
  {
   "cell_type": "markdown",
   "metadata": {},
   "source": [
    "## 1. Lister les 10 derniers livres par leur date de publication"
   ]
  },
  {
   "cell_type": "markdown",
   "metadata": {},
   "source": [
    "\n",
    "1.1. Etape 1 : Lister tous les books\n",
    "\n",
    "requete avec classement par date (les plus rescents t premier)\n"
   ]
  },
  {
   "cell_type": "code",
   "execution_count": 27,
   "metadata": {},
   "outputs": [],
   "source": [
    "import requests\n",
    "url = 'https://demo.api-platform.com/books?order[publicationDate]=desc&page=1'\n",
    "r_books = requests.get(url)"
   ]
  },
  {
   "cell_type": "code",
   "execution_count": 28,
   "metadata": {},
   "outputs": [
    {
     "data": {
      "text/plain": [
       "200"
      ]
     },
     "execution_count": 28,
     "metadata": {},
     "output_type": "execute_result"
    }
   ],
   "source": [
    "r_books.status_code"
   ]
  },
  {
   "cell_type": "code",
   "execution_count": 29,
   "metadata": {},
   "outputs": [
    {
     "data": {
      "text/plain": [
       "'application/ld+json; charset=utf-8'"
      ]
     },
     "execution_count": 29,
     "metadata": {},
     "output_type": "execute_result"
    }
   ],
   "source": [
    "r_books.headers['content-type']"
   ]
  },
  {
   "cell_type": "markdown",
   "metadata": {},
   "source": [
    "On enregistre la réponse de requête au format json dans un dictionnaire"
   ]
  },
  {
   "cell_type": "code",
   "execution_count": 30,
   "metadata": {},
   "outputs": [],
   "source": [
    "dico_books = r_books.json()"
   ]
  },
  {
   "cell_type": "code",
   "execution_count": 34,
   "metadata": {},
   "outputs": [
    {
     "data": {
      "text/plain": [
       "dict"
      ]
     },
     "execution_count": 34,
     "metadata": {},
     "output_type": "execute_result"
    }
   ],
   "source": [
    "type(dico_books)"
   ]
  },
  {
   "cell_type": "markdown",
   "metadata": {},
   "source": [
    "\n",
    "\n",
    "On créé une liste de dictionnaires contenat uniquement les ebooks via la clé \"hydra:member\"\n"
   ]
  },
  {
   "cell_type": "code",
   "execution_count": 31,
   "metadata": {},
   "outputs": [],
   "source": [
    "liste_books = dico_books.get(\"hydra:member\")"
   ]
  },
  {
   "cell_type": "code",
   "execution_count": 32,
   "metadata": {},
   "outputs": [
    {
     "data": {
      "text/plain": [
       "30"
      ]
     },
     "execution_count": 32,
     "metadata": {},
     "output_type": "execute_result"
    }
   ],
   "source": [
    "len(liste_books)"
   ]
  },
  {
   "cell_type": "code",
   "execution_count": 33,
   "metadata": {},
   "outputs": [
    {
     "data": {
      "text/plain": [
       "list"
      ]
     },
     "execution_count": 33,
     "metadata": {},
     "output_type": "execute_result"
    }
   ],
   "source": [
    "type(liste_books)"
   ]
  },
  {
   "cell_type": "markdown",
   "metadata": {},
   "source": [
    "\n",
    "\n",
    "1.2. Etape 2 : Afficher le titre des 10 livres\n",
    "\n",
    "extraire les 10 dictionnaires contenus dans la liste\n",
    "\n",
    "\n"
   ]
  },
  {
   "cell_type": "code",
   "execution_count": 37,
   "metadata": {},
   "outputs": [
    {
     "data": {
      "text/plain": [
       "[{'@id': '/books/e7fe1597-5202-406f-be05-fd88f5732e16',\n",
       "  '@type': 'http://schema.org/Book',\n",
       "  'isbn': '1233333313',\n",
       "  'title': 'demotitle',\n",
       "  'description': 'descr',\n",
       "  'author': 'ME d',\n",
       "  'publicationDate': '2020-01-08T00:00:00+00:00',\n",
       "  'reviews': []},\n",
       " {'@id': '/books/27c44cf2-43ea-45bc-a8a7-54e83e984be4',\n",
       "  '@type': 'http://schema.org/Book',\n",
       "  'title': 'sdfs',\n",
       "  'description': 'sdfsd',\n",
       "  'author': 'sdfsd',\n",
       "  'publicationDate': '2020-01-01T00:00:00+00:00',\n",
       "  'reviews': []},\n",
       " {'@id': '/books/2b054ad2-fd37-44ec-bfe2-405b54b1d47c',\n",
       "  '@type': 'http://schema.org/Book',\n",
       "  'isbn': '047011519X',\n",
       "  'title': 'The italian job',\n",
       "  'description': 'python',\n",
       "  'author': 'tavo',\n",
       "  'publicationDate': '2020-01-01T00:00:00+00:00',\n",
       "  'reviews': []},\n",
       " {'@id': '/books/4cbccef4-d686-417a-b731-21dca8c929fb',\n",
       "  '@type': 'http://schema.org/Book',\n",
       "  'isbn': '0-545-01022-5',\n",
       "  'title': 'TestBook123',\n",
       "  'description': 'TestBook123 description',\n",
       "  'author': 'Tey',\n",
       "  'publicationDate': '2020-01-01T00:00:00+00:00',\n",
       "  'reviews': []},\n",
       " {'@id': '/books/4d2592d5-b796-46ac-92f6-30ad7a50177e',\n",
       "  '@type': 'http://schema.org/Book',\n",
       "  'title': 'Est magnam ut nemo.',\n",
       "  'description': 'asaasa',\n",
       "  'author': 'zzxzx',\n",
       "  'publicationDate': '2019-12-20T00:00:00+00:00',\n",
       "  'reviews': []},\n",
       " {'@id': '/books/7ff83420-8434-4fd6-aef4-594c5aff6c13',\n",
       "  '@type': 'http://schema.org/Book',\n",
       "  'title': 'sdf',\n",
       "  'description': 'sdf',\n",
       "  'author': 'sdf',\n",
       "  'publicationDate': '2019-12-11T00:00:00+00:00',\n",
       "  'reviews': []},\n",
       " {'@id': '/books/68db678e-457c-40b5-b328-11d826c45a18',\n",
       "  '@type': 'http://schema.org/Book',\n",
       "  'isbn': '978-3-16-148410-0',\n",
       "  'title': 'booktes',\n",
       "  'description': 'booktestt',\n",
       "  'author': 'bookie',\n",
       "  'publicationDate': '2019-12-01T00:00:00+00:00',\n",
       "  'reviews': []},\n",
       " {'@id': '/books/6750559d-619a-432c-af62-0fbb28038546',\n",
       "  '@type': 'http://schema.org/Book',\n",
       "  'isbn': '9789863208150',\n",
       "  'title': 'HelloWorld',\n",
       "  'description': 'HelloWorld!!!',\n",
       "  'author': 'Flame',\n",
       "  'publicationDate': '2019-03-15T00:00:00+00:00',\n",
       "  'reviews': []},\n",
       " {'@id': '/books/bfdc241f-06ca-4d1e-8f37-0b558962df98',\n",
       "  '@type': 'http://schema.org/Book',\n",
       "  'title': 'aoskdasodk',\n",
       "  'description': 'OKASDOKASD',\n",
       "  'author': 'jk',\n",
       "  'publicationDate': '2019-03-03T00:00:00+00:00',\n",
       "  'reviews': []},\n",
       " {'@id': '/books/030075a5-4bc7-4084-a315-5ea304636d45',\n",
       "  '@type': 'http://schema.org/Book',\n",
       "  'isbn': '9781802036169',\n",
       "  'title': 'Alias et similique impedit beatae dolores.',\n",
       "  'description': 'Qui voluptas rerum quia et harum dolor quaerat libero. Repellat rerum voluptas dolore. Vero voluptates fugit officiis explicabo. Libero sit ducimus minima.',\n",
       "  'author': 'Ms. Mollie Padbergee',\n",
       "  'publicationDate': '2019-02-01T00:00:00+00:00',\n",
       "  'reviews': [{'@id': '/reviews/4b06547b-b763-45c0-860d-22c1f31398ea',\n",
       "    '@type': 'http://schema.org/Review',\n",
       "    'body': 'Eaque et in amet et eius aut dolor. Omnis et inventore doloremque labore laborum rerum. Voluptatibus eos facilis soluta eos quis dolor aut. Quia nemo amet rem vero iusto blanditiis sit.'},\n",
       "   {'@id': '/reviews/57e1bb11-61e7-4068-a78c-fcafa2248ee6',\n",
       "    '@type': 'http://schema.org/Review',\n",
       "    'body': 'Et consequuntur aliquid odio est a reiciendis et. Mollitia fugiat placeat ut magnam veritatis consequuntur. Excepturi explicabo est delectus et. Dolore voluptatibus ex et tempora.'}]}]"
      ]
     },
     "execution_count": 37,
     "metadata": {},
     "output_type": "execute_result"
    }
   ],
   "source": [
    "liste_10_books = liste_books[0:10]\n",
    "liste_10_books"
   ]
  },
  {
   "cell_type": "code",
   "execution_count": 38,
   "metadata": {},
   "outputs": [
    {
     "data": {
      "text/plain": [
       "10"
      ]
     },
     "execution_count": 38,
     "metadata": {},
     "output_type": "execute_result"
    }
   ],
   "source": [
    "len(liste_10_books)"
   ]
  },
  {
   "cell_type": "code",
   "execution_count": 58,
   "metadata": {},
   "outputs": [
    {
     "name": "stdout",
     "output_type": "stream",
     "text": [
      "Title :  demotitle  , Publié : 2020-01-08\n",
      "Title :  sdfs  , Publié : 2020-01-01\n",
      "Title :  The italian job  , Publié : 2020-01-01\n",
      "Title :  TestBook123  , Publié : 2020-01-01\n",
      "Title :  Est magnam ut nemo.  , Publié : 2019-12-20\n",
      "Title :  sdf  , Publié : 2019-12-11\n",
      "Title :  booktes  , Publié : 2019-12-01\n",
      "Title :  HelloWorld  , Publié : 2019-03-15\n",
      "Title :  aoskdasodk  , Publié : 2019-03-03\n",
      "Title :  Alias et similique impedit beatae dolores.  , Publié : 2019-02-01\n"
     ]
    }
   ],
   "source": [
    "for i in range(len(liste_10_books)):\n",
    "    for k, v in liste_10_books[i].items():\n",
    "        if k == 'title':\n",
    "            titre = v\n",
    "            #print(titre)\n",
    "        if k == 'publicationDate':\n",
    "            publicationDate = v\n",
    "            publicationDate = publicationDate[0:10]\n",
    "            #print(publicationDate)\n",
    "            print('Title : ', titre, ' , Publié :', publicationDate)\n",
    "\n",
    "        \n",
    "\n",
    "        \n",
    "    "
   ]
  },
  {
   "cell_type": "markdown",
   "metadata": {},
   "source": [
    "# 2. Lister le livre écrit par l’auteur « Dr. Kaitlyn Ratke »"
   ]
  },
  {
   "cell_type": "code",
   "execution_count": 59,
   "metadata": {},
   "outputs": [],
   "source": [
    "url = 'https://demo.api-platform.com/books?order[author]=desc&author=Dr.%20Kaitlyn%20Ratke'\n",
    "r_author = requests.get(url)"
   ]
  },
  {
   "cell_type": "code",
   "execution_count": 60,
   "metadata": {},
   "outputs": [
    {
     "data": {
      "text/plain": [
       "200"
      ]
     },
     "execution_count": 60,
     "metadata": {},
     "output_type": "execute_result"
    }
   ],
   "source": [
    "r_author.status_code"
   ]
  },
  {
   "cell_type": "code",
   "execution_count": 61,
   "metadata": {},
   "outputs": [
    {
     "data": {
      "text/plain": [
       "'application/ld+json; charset=utf-8'"
      ]
     },
     "execution_count": 61,
     "metadata": {},
     "output_type": "execute_result"
    }
   ],
   "source": [
    "r_author.headers['content-type']"
   ]
  },
  {
   "cell_type": "code",
   "execution_count": 64,
   "metadata": {},
   "outputs": [
    {
     "data": {
      "text/plain": [
       "dict"
      ]
     },
     "execution_count": 64,
     "metadata": {},
     "output_type": "execute_result"
    }
   ],
   "source": [
    "dico_author = r_author.json()\n",
    "type(dico_author)"
   ]
  },
  {
   "cell_type": "code",
   "execution_count": 67,
   "metadata": {},
   "outputs": [
    {
     "data": {
      "text/plain": [
       "[{'@id': '/books/c7784c5d-2c31-4b31-9d26-645593627759',\n",
       "  '@type': 'http://schema.org/Book',\n",
       "  'isbn': '9799174982977',\n",
       "  'title': 'Similique aut est dolores.',\n",
       "  'description': 'Facere odio modi consequatur dicta ipsa. Sit facere cupiditate doloremque odio ad asperiores quaerat. Accusamus sint dolorem earum ut.',\n",
       "  'author': 'Dr. Kaitlyn Ratke',\n",
       "  'publicationDate': '1997-07-04T00:00:00+00:00',\n",
       "  'reviews': [{'@id': '/reviews/52ddd1ae-9e4c-4659-8d1b-aef0fc666efc',\n",
       "    '@type': 'http://schema.org/Review',\n",
       "    'body': 'Sunt tempora voluptas accusantium alias reprehenderit veritatis quo. Doloribus et magnam est enim. Necessitatibus illum unde vitae quos officiis. Cupiditate cupiditate enim quia in numquam odio quam ipsum.'},\n",
       "   {'@id': '/reviews/ad83823d-9bd2-433d-9a03-0385881ea9f7',\n",
       "    '@type': 'http://schema.org/Review',\n",
       "    'body': 'Eaque sed maiores consectetur aut numquam. Eum sint recusandae consequuntur laudantium. Voluptatem tempore nihil aut rerum aut nulla impedit.'},\n",
       "   {'@id': '/reviews/ba7a865b-75b2-4e76-847f-fb89ae3bf893',\n",
       "    '@type': 'http://schema.org/Review',\n",
       "    'body': 'Unde natus ut consequatur laudantium non. Adipisci iste numquam voluptas nihil ullam. Nostrum illo quos minus provident sit ad. Vel sed sunt magni itaque architecto.'},\n",
       "   {'@id': '/reviews/d8ec7902-3f36-48bd-9c2a-f9899689e137',\n",
       "    '@type': 'http://schema.org/Review',\n",
       "    'body': 'At praesentium eligendi esse necessitatibus. Alias quis omnis harum est totam maxime corrupti. Architecto ullam quibusdam aliquam aperiam repellat et qui.'},\n",
       "   {'@id': '/reviews/1ef592f2-29d9-458a-b702-d6bc7557adc9',\n",
       "    '@type': 'http://schema.org/Review',\n",
       "    'body': 'Dolorem et debitis aliquid nihil corrupti distinctio non. Consequuntur in quas accusamus illo quos magnam ut et. Voluptas et nobis laboriosam molestias.'},\n",
       "   {'@id': '/reviews/a0dce00e-d128-4f3b-9c91-ca162ae664f3',\n",
       "    '@type': 'http://schema.org/Review',\n",
       "    'body': 'Cumque rerum dolore nihil praesentium. Aspernatur mollitia eos quia voluptates.'},\n",
       "   {'@id': '/reviews/9e24d25f-55ff-4cc1-adb4-dfe9baa99b82',\n",
       "    '@type': 'http://schema.org/Review',\n",
       "    'body': 'Alias quia ratione praesentium quis doloribus. Itaque ipsum a quas sequi aut ad et. Dolor in ut tempora quos repellat.'},\n",
       "   {'@id': '/reviews/a2908d76-c124-42b4-a307-7d60a4b1374b',\n",
       "    '@type': 'http://schema.org/Review',\n",
       "    'body': 'Hic explicabo illo dolorem ut mollitia. Animi adipisci officiis iusto atque maxime dolor optio. Suscipit eligendi ea occaecati quasi veniam exercitationem quaerat.'}]}]"
      ]
     },
     "execution_count": 67,
     "metadata": {},
     "output_type": "execute_result"
    }
   ],
   "source": [
    "liste_author = dico_author['hydra:member']\n",
    "liste_author"
   ]
  },
  {
   "cell_type": "code",
   "execution_count": 74,
   "metadata": {},
   "outputs": [
    {
     "name": "stdout",
     "output_type": "stream",
     "text": [
      "Le livre écrit par  Dr. Kaitlyn Ratke  :  Similique aut est dolores.\n"
     ]
    }
   ],
   "source": [
    "for i in range(len(liste_author)):\n",
    "    for k, v in liste_author[i].items():\n",
    "        if k == 'title':\n",
    "            title = v\n",
    "            #print(title)\n",
    "        if k == 'author':\n",
    "            author = v\n",
    "            #print(author)\n",
    "            print('Le livre écrit par ', author, ' : ', title)\n",
    "        "
   ]
  },
  {
   "cell_type": "markdown",
   "metadata": {},
   "source": [
    "# 3. Lister tous les commentaires du livre dont l’id est « 1d52ba85-97c8-4cc3-b81a- 40582f3aff64 »"
   ]
  },
  {
   "cell_type": "code",
   "execution_count": 86,
   "metadata": {},
   "outputs": [
    {
     "data": {
      "text/plain": [
       "200"
      ]
     },
     "execution_count": 86,
     "metadata": {},
     "output_type": "execute_result"
    }
   ],
   "source": [
    "url = ('https://demo.api-platform.com/books/1d52ba85-97c8-4cc3-b81a-40582f3aff64/reviews')\n",
    "\n",
    "\n",
    "#livre = requests.get(\"https://demo.api-platform.com/books/1d52ba85-97c8-4cc3-b81a-40582f3aff64\")\n",
    "r_livre = requests.get(url)\n",
    "r_livre.status_code"
   ]
  },
  {
   "cell_type": "code",
   "execution_count": 88,
   "metadata": {},
   "outputs": [
    {
     "data": {
      "text/plain": [
       "'application/ld+json; charset=utf-8'"
      ]
     },
     "execution_count": 88,
     "metadata": {},
     "output_type": "execute_result"
    }
   ],
   "source": [
    "r_livre.headers['content-type']"
   ]
  },
  {
   "cell_type": "code",
   "execution_count": 99,
   "metadata": {},
   "outputs": [
    {
     "data": {
      "text/plain": [
       "[{'@id': '/reviews/0eeb2199-75a4-4375-b802-7e07f318cc02',\n",
       "  '@type': 'http://schema.org/Review',\n",
       "  'body': 'This is a test',\n",
       "  'rating': 4,\n",
       "  'book': {'@id': '/books/1d52ba85-97c8-4cc3-b81a-40582f3aff64',\n",
       "   '@type': 'http://schema.org/Book',\n",
       "   'title': 'Sed architecto quod nulla maxime.'}},\n",
       " {'@id': '/reviews/1aca88c2-a7f4-4827-b58c-46dd012f9322',\n",
       "  '@type': 'http://schema.org/Review',\n",
       "  'body': 'zezezezezezezeze',\n",
       "  'rating': 5,\n",
       "  'book': {'@id': '/books/1d52ba85-97c8-4cc3-b81a-40582f3aff64',\n",
       "   '@type': 'http://schema.org/Book',\n",
       "   'title': 'Sed architecto quod nulla maxime.'},\n",
       "  'author': 'Pierre',\n",
       "  'publicationDate': '2020-01-10T00:00:00+00:00'},\n",
       " {'@id': '/reviews/1ae03ced-3ee9-4250-befc-5395a9b3dff6',\n",
       "  '@type': 'http://schema.org/Review',\n",
       "  'body': 'coucou les geek',\n",
       "  'rating': 5,\n",
       "  'book': {'@id': '/books/1d52ba85-97c8-4cc3-b81a-40582f3aff64',\n",
       "   '@type': 'http://schema.org/Book',\n",
       "   'title': 'Sed architecto quod nulla maxime.'},\n",
       "  'author': 'Pierre',\n",
       "  'publicationDate': '2020-01-10T00:00:00+00:00'},\n",
       " {'@id': '/reviews/1c51621f-eb5c-4dde-ac83-e65781c205e8',\n",
       "  '@type': 'http://schema.org/Review',\n",
       "  'body': 'zezezezezezezeze',\n",
       "  'rating': 5,\n",
       "  'book': {'@id': '/books/1d52ba85-97c8-4cc3-b81a-40582f3aff64',\n",
       "   '@type': 'http://schema.org/Book',\n",
       "   'title': 'Sed architecto quod nulla maxime.'},\n",
       "  'author': 'Pierre',\n",
       "  'publicationDate': '2020-01-10T00:00:00+00:00'},\n",
       " {'@id': '/reviews/1ec5cd2f-f0f6-43f7-8b1d-da45d480a20d',\n",
       "  '@type': 'http://schema.org/Review',\n",
       "  'body': 'zezezezezezezeze',\n",
       "  'rating': 5,\n",
       "  'book': {'@id': '/books/1d52ba85-97c8-4cc3-b81a-40582f3aff64',\n",
       "   '@type': 'http://schema.org/Book',\n",
       "   'title': 'Sed architecto quod nulla maxime.'},\n",
       "  'author': 'Pierre',\n",
       "  'publicationDate': '2020-01-10T00:00:00+00:00'},\n",
       " {'@id': '/reviews/2e17783a-8317-4492-8fa1-532f340070f9',\n",
       "  '@type': 'http://schema.org/Review',\n",
       "  'body': 'Provident vero ullam voluptatem dolores quasi quis. Eum rerum quasi excepturi optio. Beatae esse et ex fuga quis. Quod est aliquid aut.',\n",
       "  'rating': 4,\n",
       "  'book': {'@id': '/books/1d52ba85-97c8-4cc3-b81a-40582f3aff64',\n",
       "   '@type': 'http://schema.org/Book',\n",
       "   'title': 'Sed architecto quod nulla maxime.'},\n",
       "  'author': 'Helena Corkery',\n",
       "  'publicationDate': '1992-02-17T09:46:15+00:00'},\n",
       " {'@id': '/reviews/59b35f42-4e64-48e3-a558-e58a7eccb6ac',\n",
       "  '@type': 'http://schema.org/Review',\n",
       "  'body': 'Est provident voluptas quod dolore. Porro sit omnis quis autem minima suscipit sunt. Autem consequatur autem sunt velit eveniet voluptas. Illum ab nobis molestiae accusamus sapiente quia iste.',\n",
       "  'rating': 0,\n",
       "  'book': {'@id': '/books/1d52ba85-97c8-4cc3-b81a-40582f3aff64',\n",
       "   '@type': 'http://schema.org/Book',\n",
       "   'title': 'Sed architecto quod nulla maxime.'},\n",
       "  'author': 'Janet Fritsch',\n",
       "  'publicationDate': '1972-12-20T19:33:53+00:00'},\n",
       " {'@id': '/reviews/5a52ed7c-ac4e-4ce6-b9d0-bd9e97418437',\n",
       "  '@type': 'http://schema.org/Review',\n",
       "  'body': '',\n",
       "  'rating': 5,\n",
       "  'book': {'@id': '/books/1d52ba85-97c8-4cc3-b81a-40582f3aff64',\n",
       "   '@type': 'http://schema.org/Book',\n",
       "   'title': 'Sed architecto quod nulla maxime.'},\n",
       "  'author': 'Pierre',\n",
       "  'publicationDate': '2020-01-10T00:00:00+00:00'},\n",
       " {'@id': '/reviews/8952f6dc-b604-4719-87d1-6e02a7b60c43',\n",
       "  '@type': 'http://schema.org/Review',\n",
       "  'body': 'Distinctio veniam ut corporis dolorem ipsum dolores quam blanditiis. Qui ullam ab sunt quisquam voluptatem id. Sed repudiandae esse cupiditate blanditiis corrupti recusandae. Est id nihil temporibus aliquam.',\n",
       "  'rating': 1,\n",
       "  'book': {'@id': '/books/1d52ba85-97c8-4cc3-b81a-40582f3aff64',\n",
       "   '@type': 'http://schema.org/Book',\n",
       "   'title': 'Sed architecto quod nulla maxime.'},\n",
       "  'author': 'Ms. Kiarra Ernser',\n",
       "  'publicationDate': '2013-03-14T22:59:26+00:00'},\n",
       " {'@id': '/reviews/cfbbe028-b6f7-4622-89e3-5b08eaf86528',\n",
       "  '@type': 'http://schema.org/Review',\n",
       "  'body': 'zezezezezezezeze',\n",
       "  'rating': 5,\n",
       "  'book': {'@id': '/books/1d52ba85-97c8-4cc3-b81a-40582f3aff64',\n",
       "   '@type': 'http://schema.org/Book',\n",
       "   'title': 'Sed architecto quod nulla maxime.'},\n",
       "  'author': 'Pierre',\n",
       "  'publicationDate': '2020-01-10T00:00:00+00:00'},\n",
       " {'@id': '/reviews/d828eba7-bcc8-42bc-ba19-62506d2055e5',\n",
       "  '@type': 'http://schema.org/Review',\n",
       "  'body': 'coucou les geek2',\n",
       "  'rating': 5,\n",
       "  'book': {'@id': '/books/1d52ba85-97c8-4cc3-b81a-40582f3aff64',\n",
       "   '@type': 'http://schema.org/Book',\n",
       "   'title': 'Sed architecto quod nulla maxime.'},\n",
       "  'author': 'Pierre',\n",
       "  'publicationDate': '2020-01-10T00:00:00+00:00'},\n",
       " {'@id': '/reviews/d8c88565-02ea-480e-a5a8-064883588da5',\n",
       "  '@type': 'http://schema.org/Review',\n",
       "  'body': 'zezezezezezezeze',\n",
       "  'rating': 5,\n",
       "  'book': {'@id': '/books/1d52ba85-97c8-4cc3-b81a-40582f3aff64',\n",
       "   '@type': 'http://schema.org/Book',\n",
       "   'title': 'Sed architecto quod nulla maxime.'},\n",
       "  'author': 'Pierre',\n",
       "  'publicationDate': '2020-01-10T00:00:00+00:00'},\n",
       " {'@id': '/reviews/fe244cb5-2afb-48cc-a6f8-8465e80c99cd',\n",
       "  '@type': 'http://schema.org/Review',\n",
       "  'body': 'zezezezezezezeze',\n",
       "  'rating': 5,\n",
       "  'book': {'@id': '/books/1d52ba85-97c8-4cc3-b81a-40582f3aff64',\n",
       "   '@type': 'http://schema.org/Book',\n",
       "   'title': 'Sed architecto quod nulla maxime.'},\n",
       "  'author': 'Pierre',\n",
       "  'publicationDate': '2020-01-10T00:00:00+00:00'}]"
      ]
     },
     "execution_count": 99,
     "metadata": {},
     "output_type": "execute_result"
    }
   ],
   "source": [
    "dico_livre = r_livre.json()\n",
    "liste_livre = dico_livre['hydra:member']\n",
    "liste_livre\n"
   ]
  },
  {
   "cell_type": "code",
   "execution_count": 101,
   "metadata": {},
   "outputs": [
    {
     "name": "stdout",
     "output_type": "stream",
     "text": [
      "This is a test\n",
      "zezezezezezezeze\n",
      "coucou les geek\n",
      "zezezezezezezeze\n",
      "zezezezezezezeze\n",
      "Provident vero ullam voluptatem dolores quasi quis. Eum rerum quasi excepturi optio. Beatae esse et ex fuga quis. Quod est aliquid aut.\n",
      "Est provident voluptas quod dolore. Porro sit omnis quis autem minima suscipit sunt. Autem consequatur autem sunt velit eveniet voluptas. Illum ab nobis molestiae accusamus sapiente quia iste.\n",
      "\n",
      "Distinctio veniam ut corporis dolorem ipsum dolores quam blanditiis. Qui ullam ab sunt quisquam voluptatem id. Sed repudiandae esse cupiditate blanditiis corrupti recusandae. Est id nihil temporibus aliquam.\n",
      "zezezezezezezeze\n",
      "coucou les geek2\n",
      "zezezezezezezeze\n",
      "zezezezezezezeze\n"
     ]
    }
   ],
   "source": [
    "for i in range(len(liste_livre)):\n",
    "    for k, v in liste_livre[i].items():\n",
    "        if k == 'body':\n",
    "            text = v\n",
    "            print(text)"
   ]
  },
  {
   "cell_type": "markdown",
   "metadata": {},
   "source": [
    "# 4. Créer un nouveau commentaire avec le texte et la note de votre choix pour le livre dont l’id est « 1b08c9ab-6254-4015-ad14-bac3e5c008df »"
   ]
  },
  {
   "cell_type": "code",
   "execution_count": 107,
   "metadata": {},
   "outputs": [],
   "source": [
    "data = {\n",
    "  \"body\": \"blamabllzlzlzlz\",\n",
    "  \"rating\": 5,\n",
    "  \"author\": \"Ivana\",\n",
    "  \"publicationDate\": \"2020-01-09T13:30:25.756Z\",\n",
    "  \"book\": \"books/1b08c9ab-6254-4015-ad14-bac3e5c008df\"\n",
    "}\n",
    "r_post_cmt = requests.post(\"https://demo.api-platform.com/reviews\", json = data)"
   ]
  },
  {
   "cell_type": "markdown",
   "metadata": {},
   "source": [
    "stockage de l'id du post créé dans la variable \"post_id\""
   ]
  },
  {
   "cell_type": "code",
   "execution_count": 108,
   "metadata": {},
   "outputs": [],
   "source": [
    "dico_post_cmt = r_post_cmt.json()"
   ]
  },
  {
   "cell_type": "code",
   "execution_count": 109,
   "metadata": {},
   "outputs": [
    {
     "name": "stdout",
     "output_type": "stream",
     "text": [
      "{'@context': '/contexts/Review', '@id': '/reviews/54f95bb3-2391-417d-8849-aeec5d0a1310', '@type': 'http://schema.org/Review', 'body': 'blamabllzlzlzlz', 'rating': 5, 'book': {'@id': '/books/1b08c9ab-6254-4015-ad14-bac3e5c008df', '@type': 'http://schema.org/Book', 'title': 'Et sit enim omnis.'}, 'author': 'Ivana', 'publicationDate': '2020-01-09T13:30:25+00:00'}\n"
     ]
    }
   ],
   "source": [
    "print(dico_post_cmt)"
   ]
  },
  {
   "cell_type": "code",
   "execution_count": 110,
   "metadata": {},
   "outputs": [],
   "source": [
    "post_id = dico_post_cmt.get('@id')"
   ]
  },
  {
   "cell_type": "code",
   "execution_count": 111,
   "metadata": {},
   "outputs": [
    {
     "name": "stdout",
     "output_type": "stream",
     "text": [
      "/reviews/54f95bb3-2391-417d-8849-aeec5d0a1310\n"
     ]
    }
   ],
   "source": [
    "print(post_id)"
   ]
  },
  {
   "cell_type": "markdown",
   "metadata": {},
   "source": [
    "4.2. Est-ce que le commentaire est publié ?\n",
    "\n",
    "afficher la liste des auteurs et des commentaires a partir de l'id du livre\n",
    "\n",
    "4.2.1. Fonction qui récupère l'auteur d'un commentaire à partir de l'id du commentaire"
   ]
  },
  {
   "cell_type": "code",
   "execution_count": 112,
   "metadata": {},
   "outputs": [],
   "source": [
    "def auteur_commt(id): \n",
    "    url = 'https://demo.api-platform.com' + id\n",
    "    r_cmt_id = requests.get(url)\n",
    "    dico_commid = r_cmt_id.json()\n",
    "    for k, v in dico_commid.items():\n",
    "        if k == 'author':\n",
    "            return v"
   ]
  },
  {
   "cell_type": "markdown",
   "metadata": {},
   "source": [
    "4.2.2. Fonction qui affiche les auteurs et les contenus des commentaires d'un livre (id) sur une ligne de 115 caract"
   ]
  },
  {
   "cell_type": "code",
   "execution_count": 113,
   "metadata": {},
   "outputs": [],
   "source": [
    "def cmts_auteursetcontenus(id):\n",
    "    url = \"https://demo.api-platform.com\" + id\n",
    "    livre_id = requests.get(url)\n",
    "    dico_livre_id = livre_id.json()    \n",
    "    list_reviews = dico_livre_id.get('reviews')\n",
    "    for i in range(len(list_reviews)):\n",
    "        for k, v in list_reviews[i].items():\n",
    "            if k == 'body':\n",
    "                c = v\n",
    "            if k == '@id':\n",
    "                id = v\n",
    "                auteur = str(auteur_commt(id))\n",
    "        p = auteur + \" : \" + c\n",
    "        p = p[0:98]\n",
    "        print(p)"
   ]
  },
  {
   "cell_type": "code",
   "execution_count": 121,
   "metadata": {},
   "outputs": [
    {
     "name": "stdout",
     "output_type": "stream",
     "text": [
      "L'egosimploniste : Il n'en restera qu'un\n",
      "L'egosimploniste : Il n'en restera qu'un\n",
      "Tester : test\n",
      "L'egosimploniste : Il n'en restera qu'un\n",
      "L'egosimploniste : Il n'en restera qu'un\n",
      "L'egosimploniste : Il n'en restera qu'un\n",
      "L'egosimploniste : Il n'en restera qu'un\n",
      "L'egosimploniste : Il n'en restera qu'un\n",
      "L'egosimploniste : Il n'en restera qu'un\n",
      "L'egosimploniste : Il n'en restera qu'un\n",
      "L'egosimploniste : Il n'en restera qu'un\n",
      "L'egosimploniste : Il n'en restera qu'un\n",
      "L'egosimploniste : Il n'en restera qu'un\n",
      "L'egosimploniste : Il n'en restera qu'un\n",
      "L'egosimploniste : Il n'en restera qu'un\n",
      "L'egosimploniste : Il n'en restera qu'un\n",
      "L'egosimploniste : Il n'en restera qu'un\n",
      "L'egosimploniste : Il n'en restera qu'un\n",
      "L'egosimploniste : Il n'en restera qu'un\n",
      "L'egosimploniste : Il n'en restera qu'un\n",
      "L'egosimploniste : Il n'en restera qu'un\n",
      "L'egosimploniste : Il n'en restera qu'un\n",
      "L'egosimploniste : Il n'en restera qu'un\n",
      "L'egosimploniste : Il n'en restera qu'un\n",
      "L'egosimploniste : Il n'en restera qu'un\n",
      "L'egosimploniste : Il n'en restera qu'un\n",
      "L'egosimploniste : Il n'en restera qu'un\n",
      "L'egosimploniste : Il n'en restera qu'un\n",
      "L'egosimploniste : Il n'en restera qu'un\n",
      "L'egosimploniste : Il n'en restera qu'un\n",
      "L'egosimploniste : Il n'en restera qu'un\n",
      "L'egosimploniste : Il n'en restera qu'un\n",
      "L'egosimploniste : Il n'en restera qu'un\n",
      "L'egosimploniste : Il n'en restera qu'un\n",
      "L'egosimploniste : Il n'en restera qu'un\n",
      "L'egosimploniste : Il n'en restera qu'un\n",
      "L'egosimploniste : Il n'en restera qu'un\n",
      "L'egosimploniste : Il n'en restera qu'un\n",
      "L'egosimploniste : Il n'en restera qu'un\n",
      "L'egosimploniste : Il n'en restera qu'un\n",
      "L'egosimploniste : Il n'en restera qu'un\n",
      "L'egosimploniste : Il n'en restera qu'un\n",
      "L'egosimploniste : Il n'en restera qu'un\n",
      "L'egosimploniste : Il n'en restera qu'un\n",
      "L'egosimploniste : Il n'en restera qu'un\n",
      "L'egosimploniste : Il n'en restera qu'un\n",
      "L'egosimploniste : Il n'en restera qu'un\n",
      "L'egosimploniste : Il n'en restera qu'un\n",
      "L'egosimploniste : Il n'en restera qu'un\n",
      "L'egosimploniste : Il n'en restera qu'un\n",
      "L'egosimploniste : Il n'en restera qu'un\n",
      "L'egosimploniste : Il n'en restera qu'un\n",
      "L'egosimploniste : Il n'en restera qu'un\n",
      "L'egosimploniste : Il n'en restera qu'un\n",
      "L'egosimploniste : Il n'en restera qu'un\n",
      "L'egosimploniste : Il n'en restera qu'un\n",
      "L'egosimploniste : Il n'en restera qu'un\n",
      "L'egosimploniste : Il n'en restera qu'un\n",
      "L'egosimploniste : Il n'en restera qu'un\n",
      "L'egosimploniste : Il n'en restera qu'un\n",
      "L'egosimploniste : Il n'en restera qu'un\n",
      "L'egosimploniste : Il n'en restera qu'un\n",
      "L'egosimploniste : Il n'en restera qu'un\n",
      "L'egosimploniste : Il n'en restera qu'un\n",
      "L'egosimploniste : Il n'en restera qu'un\n",
      "L'egosimploniste : Il n'en restera qu'un\n",
      "L'egosimploniste : Il n'en restera qu'un\n",
      "L'egosimploniste : Il n'en restera qu'un\n",
      "L'egosimploniste : Il n'en restera qu'un\n",
      "L'egosimploniste : Il n'en restera qu'un\n",
      "L'egosimploniste : Il n'en restera qu'un\n",
      "L'egosimploniste : Il n'en restera qu'un\n",
      "L'egosimploniste : Il n'en restera qu'un\n",
      "L'egosimploniste : Il n'en restera qu'un\n",
      "L'egosimploniste : Il n'en restera qu'un\n",
      "L'egosimploniste : Il n'en restera qu'un\n",
      "L'egosimploniste : Il n'en restera qu'un\n",
      "L'egosimploniste : Il n'en restera qu'un\n",
      "L'egosimploniste : Il n'en restera qu'un\n",
      "L'egosimploniste : Il n'en restera qu'un\n",
      "L'egosimploniste : Il n'en restera qu'un\n",
      "L'egosimploniste : Il n'en restera qu'un\n",
      "L'egosimploniste : Il n'en restera qu'un\n",
      "L'egosimploniste : Il n'en restera qu'un\n",
      "L'egosimploniste : Il n'en restera qu'un\n",
      "Tester : test\n",
      "L'egosimploniste : Il n'en restera qu'un\n",
      "L'egosimploniste : Il n'en restera qu'un\n",
      "L'egosimploniste : Il n'en restera qu'un\n",
      "L'egosimploniste : Il n'en restera qu'un\n",
      "L'egosimploniste : Il n'en restera qu'un\n",
      "L'egosimploniste : Il n'en restera qu'un\n",
      "L'egosimploniste : Il n'en restera qu'un\n",
      "L'egosimploniste : Il n'en restera qu'un\n",
      "L'egosimploniste : Il n'en restera qu'un\n",
      "L'egosimploniste : Il n'en restera qu'un\n",
      "L'egosimploniste : Il n'en restera qu'un\n",
      "L'egosimploniste : Il n'en restera qu'un\n",
      "L'egosimploniste : Il n'en restera qu'un\n",
      "L'egosimploniste : Il n'en restera qu'un\n",
      "L'egosimploniste : Il n'en restera qu'un\n",
      "L'egosimploniste : Il n'en restera qu'un\n",
      "L'egosimploniste : Il n'en restera qu'un\n",
      "L'egosimploniste : Il n'en restera qu'un\n",
      "L'egosimploniste : Il n'en restera qu'un\n",
      "L'egosimploniste : Il n'en restera qu'un\n",
      "L'egosimploniste : Il n'en restera qu'un\n",
      "L'egosimploniste : Il n'en restera qu'un\n",
      "L'egosimploniste : Il n'en restera qu'un\n",
      "L'egosimploniste : Il n'en restera qu'un\n",
      "L'egosimploniste : Il n'en restera qu'un\n",
      "L'egosimploniste : Il n'en restera qu'un\n",
      "L'egosimploniste : Il n'en restera qu'un\n",
      "L'egosimploniste : Il n'en restera qu'un\n",
      "L'egosimploniste : Il n'en restera qu'un\n",
      "L'egosimploniste : Il n'en restera qu'un\n",
      "L'egosimploniste : Il n'en restera qu'un\n",
      "L'egosimploniste : Il n'en restera qu'un\n",
      "L'egosimploniste : Il n'en restera qu'un\n",
      "L'egosimploniste : Il n'en restera qu'un\n",
      "L'egosimploniste : Il n'en restera qu'un\n",
      "L'egosimploniste : Il n'en restera qu'un\n",
      "L'egosimploniste : Il n'en restera qu'un\n",
      "L'egosimploniste : Il n'en restera qu'un\n",
      "L'egosimploniste : Il n'en restera qu'un\n",
      "L'egosimploniste : Il n'en restera qu'un\n",
      "L'egosimploniste : Il n'en restera qu'un\n",
      "L'egosimploniste : Il n'en restera qu'un\n",
      "L'egosimploniste : Il n'en restera qu'un\n",
      "L'egosimploniste : Il n'en restera qu'un\n",
      "L'egosimploniste : Il n'en restera qu'un\n",
      "L'egosimploniste : Il n'en restera qu'un\n",
      "L'egosimploniste : Il n'en restera qu'un\n",
      "L'egosimploniste : Il n'en restera qu'un\n",
      "L'egosimploniste : Il n'en restera qu'un\n",
      "L'egosimploniste : Il n'en restera qu'un\n",
      "L'egosimploniste : Il n'en restera qu'un\n",
      "L'egosimploniste : Il n'en restera qu'un\n",
      "L'egosimploniste : Il n'en restera qu'un\n",
      "L'egosimploniste : Il n'en restera qu'un\n",
      "L'egosimploniste : Il n'en restera qu'un\n",
      "L'egosimploniste : Il n'en restera qu'un\n",
      "L'egosimploniste : Il n'en restera qu'un\n",
      "L'egosimploniste : Il n'en restera qu'un\n",
      "L'egosimploniste : Il n'en restera qu'un\n",
      "L'egosimploniste : Il n'en restera qu'un\n",
      "L'egosimploniste : Il n'en restera qu'un\n",
      "L'egosimploniste : Il n'en restera qu'un\n",
      "L'egosimploniste : Il n'en restera qu'un\n",
      "L'egosimploniste : Il n'en restera qu'un\n",
      "L'egosimploniste : Il n'en restera qu'un\n",
      "L'egosimploniste : Il n'en restera qu'un\n",
      "L'egosimploniste : Il n'en restera qu'un\n",
      "L'egosimploniste : Il n'en restera qu'un\n",
      "L'egosimploniste : Il n'en restera qu'un\n",
      "L'egosimploniste : Il n'en restera qu'un\n"
     ]
    }
   ],
   "source": [
    "\n",
    "\n",
    "id = \"/books/1b08c9ab-6254-4015-ad14-bac3e5c008df\"\n",
    "cmts_auteursetcontenus(id)\n",
    "\n"
   ]
  },
  {
   "cell_type": "markdown",
   "metadata": {},
   "source": [
    "# 5. Modifier votre nouveau commentaire en utilisant l’id qui vous a été fourni lors de sa création"
   ]
  },
  {
   "cell_type": "code",
   "execution_count": 115,
   "metadata": {},
   "outputs": [],
   "source": [
    "#phrase initiale : blamabllzlzlzlz\n",
    "#new : Dobry den\n",
    "data_patch = {\"body\": \"Dobry den\"}\n",
    "url2 = \"https://demo.api-platform.com\" + post_id\n",
    "r_patch_cmt = requests.patch(url2, json = data_patch, headers={'Content-Type': 'application/merge-patch+json'})"
   ]
  },
  {
   "cell_type": "code",
   "execution_count": 116,
   "metadata": {},
   "outputs": [
    {
     "name": "stdout",
     "output_type": "stream",
     "text": [
      "https://demo.api-platform.com/reviews/54f95bb3-2391-417d-8849-aeec5d0a1310\n"
     ]
    }
   ],
   "source": [
    "print(url2)"
   ]
  },
  {
   "cell_type": "code",
   "execution_count": 117,
   "metadata": {},
   "outputs": [
    {
     "name": "stdout",
     "output_type": "stream",
     "text": [
      "<Response [200]>\n"
     ]
    }
   ],
   "source": [
    "print(r_patch_cmt)"
   ]
  },
  {
   "cell_type": "code",
   "execution_count": 119,
   "metadata": {},
   "outputs": [
    {
     "name": "stdout",
     "output_type": "stream",
     "text": [
      "{'@context': '/contexts/Review', '@id': '/reviews/54f95bb3-2391-417d-8849-aeec5d0a1310', '@type': 'http://schema.org/Review', 'body': 'Dobry den', 'rating': 5, 'book': {'@id': '/books/1b08c9ab-6254-4015-ad14-bac3e5c008df', '@type': 'http://schema.org/Book', 'title': 'Et sit enim omnis.'}, 'author': 'Ivana', 'publicationDate': '2020-01-09T13:30:25+00:00'}\n"
     ]
    }
   ],
   "source": [
    "dico_modif = r_patch_cmt.json()\n",
    "print(dico_modif)"
   ]
  },
  {
   "cell_type": "markdown",
   "metadata": {},
   "source": [
    "\n",
    "Test :\n",
    "\n",
    "Fonction qui retourne le contenu d'un commentaire a partir de son id\n"
   ]
  },
  {
   "cell_type": "code",
   "execution_count": 123,
   "metadata": {},
   "outputs": [
    {
     "name": "stdout",
     "output_type": "stream",
     "text": [
      "Il n'en restera qu'un\n"
     ]
    }
   ],
   "source": [
    "\n",
    "\n",
    "def content_commt(id):\n",
    "    url = 'https://demo.api-platform.com' + id\n",
    "    r_cmt_id = requests.get(url)\n",
    "    dico_commid = r_cmt_id.json()\n",
    "    for k, v in dico_commid.items():\n",
    "        if k == 'body':\n",
    "            return v\n",
    "\n",
    "id = post_id\n",
    "print(content_commt(id))\n",
    "\n"
   ]
  },
  {
   "cell_type": "code",
   "execution_count": null,
   "metadata": {},
   "outputs": [],
   "source": []
  }
 ],
 "metadata": {
  "kernelspec": {
   "display_name": "Python 3",
   "language": "python",
   "name": "python3"
  },
  "language_info": {
   "codemirror_mode": {
    "name": "ipython",
    "version": 3
   },
   "file_extension": ".py",
   "mimetype": "text/x-python",
   "name": "python",
   "nbconvert_exporter": "python",
   "pygments_lexer": "ipython3",
   "version": "3.7.4"
  }
 },
 "nbformat": 4,
 "nbformat_minor": 2
}
